{
 "cells": [
  {
   "cell_type": "code",
   "execution_count": null,
   "metadata": {},
   "outputs": [
    {
     "data": {
      "text/plain": [
       "     state  year  ... candidatevotes totalvotes\n",
       "0  ALABAMA  1976  ...         659170    1182850\n",
       "1  ALABAMA  1976  ...         504070    1182850\n",
       "2  ALABAMA  1976  ...           9198    1182850\n",
       "3  ALABAMA  1976  ...           6669    1182850\n",
       "4  ALABAMA  1976  ...           1954    1182850\n",
       "\n",
       "[5 rows x 7 columns]\n"
      ]
     },
     "metadata": {},
     "output_type": "display_data"
    }
   ],
   "source": [
    "import pandas as pd\n",
    "electoral_result = pd.read_csv('/workspaces/My_Vault/electoral_analysis/electoral_result_data.csv')\n",
    "\n",
    "print(electoral_result.head())\n"
   ]
  }
 ],
 "metadata": {
  "kernelspec": {
   "display_name": "Python 3",
   "language": "python",
   "name": "python3"
  },
  "language_info": {
   "codemirror_mode": {
    "name": "ipython",
    "version": 3
   },
   "file_extension": ".py",
   "mimetype": "text/x-python",
   "name": "python",
   "nbconvert_exporter": "python",
   "pygments_lexer": "ipython3",
   "version": "3.12.1"
  }
 },
 "nbformat": 4,
 "nbformat_minor": 2
}

{
 "cells": [
  {
   "cell_type": "code",
   "execution_count": 21,
   "metadata": {},
   "outputs": [
    {
     "name": "stdout",
     "output_type": "stream",
     "text": [
      "      year    state        office         candidate party_detailed  \\\n",
      "2728  2008  ALABAMA  US PRESIDENT      MCCAIN, JOHN     REPUBLICAN   \n",
      "2729  2008  ALABAMA  US PRESIDENT  OBAMA, BARACK H.       DEMOCRAT   \n",
      "2730  2008  ALABAMA  US PRESIDENT               NaN    INDEPENDENT   \n",
      "2731  2008  ALABAMA  US PRESIDENT               NaN            NaN   \n",
      "2732  2008   ALASKA  US PRESIDENT      MCCAIN, JOHN     REPUBLICAN   \n",
      "\n",
      "      candidatevotes  totalvotes party_simplified  \n",
      "2728         1266546     2099819       REPUBLICAN  \n",
      "2729          813479     2099819         DEMOCRAT  \n",
      "2730           16089     2099819            OTHER  \n",
      "2731            3705     2099819            OTHER  \n",
      "2732          193841      326197       REPUBLICAN  \n"
     ]
    }
   ],
   "source": [
    "import pandas as pd\n",
    "electoral_result = pd.read_csv('/workspaces/Electoral-Economic-Analysis/electoral_analysis/1976-2020-president.csv')\n",
    "\n",
    "electoral_result = electoral_result.drop(columns=['state_po', 'state_fips', 'state_cen', 'state_ic', 'writein', 'notes', 'version'])\n",
    "\n",
    "electoral_result = electoral_result[electoral_result['year'] >= 2008]\n",
    "\n",
    "electoral_result.to_csv('/workspaces/Electoral-Economic-Analysis/electoral_analysis/2008-2020-president.csv')\n",
    "print(electoral_result.head())\n"
   ]
  },
  {
   "cell_type": "code",
   "execution_count": 22,
   "metadata": {},
   "outputs": [],
   "source": [
    "winning_percentage = round((electoral_result['candidatevotes'] / electoral_result['totalvotes']) * 100, 2)\n",
    "electoral_result['winning_percentage'] = winning_percentage\n"
   ]
  },
  {
   "cell_type": "code",
   "execution_count": 23,
   "metadata": {},
   "outputs": [
    {
     "name": "stdout",
     "output_type": "stream",
     "text": [
      "     Year          State        Office    Winning Candidate Winning Party  \\\n",
      "0    2008        ALABAMA  US PRESIDENT         MCCAIN, JOHN    REPUBLICAN   \n",
      "1    2008         ALASKA  US PRESIDENT         MCCAIN, JOHN    REPUBLICAN   \n",
      "2    2008        ARIZONA  US PRESIDENT         MCCAIN, JOHN    REPUBLICAN   \n",
      "3    2008       ARKANSAS  US PRESIDENT         MCCAIN, JOHN    REPUBLICAN   \n",
      "4    2008     CALIFORNIA  US PRESIDENT     OBAMA, BARACK H.      DEMOCRAT   \n",
      "..    ...            ...           ...                  ...           ...   \n",
      "203  2020        WYOMING  US PRESIDENT     TRUMP, DONALD J.    REPUBLICAN   \n",
      "204  2008  UNITED STATES  US PRESIDENT     OBAMA, BARACK H.      DEMOCRAT   \n",
      "205  2012  UNITED STATES  US PRESIDENT     OBAMA, BARACK H.      DEMOCRAT   \n",
      "206  2016  UNITED STATES  US PRESIDENT     CLINTON, HILLARY      DEMOCRAT   \n",
      "207  2020  UNITED STATES  US PRESIDENT  BIDEN, JOSEPH R. JR      DEMOCRAT   \n",
      "\n",
      "     Winning Percentage     Losing Candidate Losing Party  Losing Percentage  \n",
      "0             60.320000     OBAMA, BARACK H.     DEMOCRAT          38.740000  \n",
      "1             59.420000     OBAMA, BARACK H.     DEMOCRAT          37.890000  \n",
      "2             53.640000     OBAMA, BARACK H.     DEMOCRAT          45.120000  \n",
      "3             58.720000     OBAMA, BARACK H.     DEMOCRAT          38.860000  \n",
      "4             61.010000         MCCAIN, JOHN   REPUBLICAN          36.950000  \n",
      "..                  ...                  ...          ...                ...  \n",
      "203           69.500000  BIDEN, JOSEPH R. JR     DEMOCRAT          26.390000  \n",
      "204           52.761558         MCCAIN, JOHN   REPUBLICAN          45.361569  \n",
      "205           50.874883         ROMNEY, MITT   REPUBLICAN          46.980113  \n",
      "206           46.205472     TRUMP, DONALD J.   REPUBLICAN          44.918882  \n",
      "207           51.264540     TRUMP, DONALD J.   REPUBLICAN          46.815648  \n",
      "\n",
      "[208 rows x 9 columns]\n"
     ]
    },
    {
     "name": "stderr",
     "output_type": "stream",
     "text": [
      "/tmp/ipykernel_5624/1003398760.py:13: DeprecationWarning: DataFrameGroupBy.apply operated on the grouping columns. This behavior is deprecated, and in a future version of pandas the grouping columns will be excluded from the operation. Either pass `include_groups=False` to exclude the groupings or explicitly select the grouping columns after groupby to silence this warning.\n",
      "  merged = df.groupby(['year', 'state', 'office']).apply(lambda group: pd.Series({\n",
      "/tmp/ipykernel_5624/1003398760.py:48: SettingWithCopyWarning: \n",
      "A value is trying to be set on a copy of a slice from a DataFrame.\n",
      "Try using .loc[row_indexer,col_indexer] = value instead\n",
      "\n",
      "See the caveats in the documentation: https://pandas.pydata.org/pandas-docs/stable/user_guide/indexing.html#returning-a-view-versus-a-copy\n",
      "  us_results['State'] = 'UNITED STATES'\n",
      "/tmp/ipykernel_5624/1003398760.py:49: SettingWithCopyWarning: \n",
      "A value is trying to be set on a copy of a slice from a DataFrame.\n",
      "Try using .loc[row_indexer,col_indexer] = value instead\n",
      "\n",
      "See the caveats in the documentation: https://pandas.pydata.org/pandas-docs/stable/user_guide/indexing.html#returning-a-view-versus-a-copy\n",
      "  us_results['Office'] = 'US PRESIDENT'\n"
     ]
    }
   ],
   "source": [
    "import pandas as pd\n",
    "\n",
    "# Drop only the columns that exist in the DataFrame\n",
    "# columns_to_drop = ['candidatevotes', 'totalvotes', 'party_simplified']\n",
    "# existing_columns_to_drop = [col for col in columns_to_drop if col in electoral_result.columns]\n",
    "# electoral_result = electoral_result.drop(columns=existing_columns_to_drop)\n",
    "\n",
    "filtered_electoral_result = electoral_result[electoral_result['party_detailed'].isin(['REPUBLICAN', 'DEMOCRAT'])]\n",
    "\n",
    "df = pd.DataFrame(filtered_electoral_result)\n",
    "\n",
    "# Reshape the DataFrame\n",
    "merged = df.groupby(['year', 'state', 'office']).apply(lambda group: pd.Series({\n",
    "    'Winning Candidate': group.loc[group['winning_percentage'].idxmax(), 'candidate'],\n",
    "    'Winning Party': group.loc[group['winning_percentage'].idxmax(), 'party_detailed'],\n",
    "    'Winning Percentage': group['winning_percentage'].max(),\n",
    "    'Losing Candidate': group.loc[group['winning_percentage'].idxmin(), 'candidate'],\n",
    "    'Losing Party': group.loc[group['winning_percentage'].idxmin(), 'party_detailed'],\n",
    "    'Losing Percentage': group['winning_percentage'].min()\n",
    "})).reset_index()\n",
    "\n",
    "# Rename several rows to fit the format of the other datasets\n",
    "merged = merged.rename(columns={'state': 'State', 'office': 'Office', 'year': 'Year'})\n",
    "\n",
    "# Calculate overall United States results for each election year\n",
    "overall_us_results = df.groupby(['year', 'party_detailed']).agg({\n",
    "    'candidatevotes': 'sum',\n",
    "    'totalvotes': 'sum'\n",
    "}).reset_index()\n",
    "\n",
    "# Calculate the percentage of votes for each party\n",
    "overall_us_results['percentage'] = (overall_us_results['candidatevotes'] / overall_us_results['totalvotes']) * 100\n",
    "\n",
    "# Pivot the overall results to get the winning and losing parties\n",
    "pivoted_us_results = overall_us_results.pivot(index='year', columns='party_detailed', values=['candidatevotes', 'percentage']).reset_index()\n",
    "pivoted_us_results.columns = ['Year', 'Democrat Votes', 'Republican Votes', 'Democrat Percentage', 'Republican Percentage']\n",
    "\n",
    "# Determine the winning and losing parties\n",
    "pivoted_us_results['Winning Party'] = pivoted_us_results.apply(lambda row: 'DEMOCRAT' if row['Democrat Votes'] > row['Republican Votes'] else 'REPUBLICAN', axis=1)\n",
    "pivoted_us_results['Winning Candidate'] = pivoted_us_results.apply(lambda row: df[(df['year'] == row['Year']) & (df['party_detailed'] == row['Winning Party'])]['candidate'].values[0], axis=1)\n",
    "pivoted_us_results['Winning Percentage'] = pivoted_us_results.apply(lambda row: row['Democrat Percentage'] if row['Winning Party'] == 'DEMOCRAT' else row['Republican Percentage'], axis=1)\n",
    "pivoted_us_results['Losing Party'] = pivoted_us_results.apply(lambda row: 'REPUBLICAN' if row['Winning Party'] == 'DEMOCRAT' else 'DEMOCRAT', axis=1)\n",
    "pivoted_us_results['Losing Candidate'] = pivoted_us_results.apply(lambda row: df[(df['year'] == row['Year']) & (df['party_detailed'] == row['Losing Party'])]['candidate'].values[0], axis=1)\n",
    "pivoted_us_results['Losing Percentage'] = pivoted_us_results.apply(lambda row: row['Republican Percentage'] if row['Winning Party'] == 'DEMOCRAT' else row['Democrat Percentage'], axis=1)\n",
    "\n",
    "# Add the United States row to the merged DataFrame\n",
    "us_results = pivoted_us_results[['Year', 'Winning Candidate', 'Winning Party', 'Winning Percentage', 'Losing Candidate', 'Losing Party', 'Losing Percentage']]\n",
    "us_results['State'] = 'UNITED STATES'\n",
    "us_results['Office'] = 'US PRESIDENT'\n",
    "\n",
    "# Append the United States results to the merged DataFrame\n",
    "merged = pd.concat([merged, us_results], ignore_index=True)\n",
    "\n",
    "# Display the merged DataFrame\n",
    "print(merged)"
   ]
  },
  {
   "cell_type": "code",
   "execution_count": null,
   "metadata": {},
   "outputs": [],
   "source": [
    "# Drop only the columns that exist in the DataFrame\n",
    "columns_to_drop = ['candidatevotes', 'totalvotes', 'party_simplified']\n",
    "existing_columns_to_drop = [col for col in columns_to_drop if col in electoral_result.columns]\n",
    "electoral_result = electoral_result.drop(columns=existing_columns_to_drop)\n",
    "\n",
    "filtered_electoral_result = electoral_result[electoral_result['party_detailed'].isin(['REPUBLICAN', 'DEMOCRAT'])]\n",
    "\n",
    "\n",
    "df = pd.DataFrame(filtered_electoral_result)\n",
    "\n",
    "# Reshape the DataFrame\n",
    "merged = df.groupby(['year', 'state', 'office']).apply(lambda group: pd.Series({\n",
    "    'Winning Candidate': group.loc[group['winning_percentage'].idxmax(), 'candidate'],\n",
    "    'Winning Party': group.loc[group['winning_percentage'].idxmax(), 'party_detailed'],\n",
    "    'Winning Percentage': group['winning_percentage'].max(),\n",
    "    'Losing Candidate': group.loc[group['winning_percentage'].idxmin(), 'candidate'],\n",
    "    'Losing Party': group.loc[group['winning_percentage'].idxmin(), 'party_detailed'],\n",
    "    'Losing Percentage': group['winning_percentage'].min()\n",
    "})).reset_index()\n",
    "\n",
    "\n",
    "# Rename several rows to fit the format of the other datasets\n",
    "merged = merged.rename(columns={'state': 'State', 'office': 'Office', 'year': 'Year'})\n",
    "# Display the merged DataFrame\n",
    "print(merged)\n",
    "merged.to_csv('/workspaces/Electoral-Economic-Analysis/electoral_analysis/processed_electoral_data.csv', index=False)"
   ]
  }
 ],
 "metadata": {
  "kernelspec": {
   "display_name": "Python 3",
   "language": "python",
   "name": "python3"
  },
  "language_info": {
   "codemirror_mode": {
    "name": "ipython",
    "version": 3
   },
   "file_extension": ".py",
   "mimetype": "text/x-python",
   "name": "python",
   "nbconvert_exporter": "python",
   "pygments_lexer": "ipython3",
   "version": "3.12.1"
  }
 },
 "nbformat": 4,
 "nbformat_minor": 2
}

{
 "cells": [
  {
   "cell_type": "code",
   "execution_count": 25,
   "metadata": {},
   "outputs": [
    {
     "name": "stdout",
     "output_type": "stream",
     "text": [
      "      year    state        office         candidate party_detailed  \\\n",
      "2728  2008  ALABAMA  US PRESIDENT      MCCAIN, JOHN     REPUBLICAN   \n",
      "2729  2008  ALABAMA  US PRESIDENT  OBAMA, BARACK H.       DEMOCRAT   \n",
      "2730  2008  ALABAMA  US PRESIDENT               NaN    INDEPENDENT   \n",
      "2731  2008  ALABAMA  US PRESIDENT               NaN            NaN   \n",
      "2732  2008   ALASKA  US PRESIDENT      MCCAIN, JOHN     REPUBLICAN   \n",
      "\n",
      "      candidatevotes  totalvotes party_simplified  \n",
      "2728         1266546     2099819       REPUBLICAN  \n",
      "2729          813479     2099819         DEMOCRAT  \n",
      "2730           16089     2099819            OTHER  \n",
      "2731            3705     2099819            OTHER  \n",
      "2732          193841      326197       REPUBLICAN  \n"
     ]
    }
   ],
   "source": [
    "import pandas as pd\n",
    "electoral_result = pd.read_csv('/workspaces/Electoral-Economic-Analysis/electoral_analysis/1976-2020-president.csv')\n",
    "\n",
    "electoral_result = electoral_result.drop(columns=['state_po', 'state_fips', 'state_cen', 'state_ic', 'writein', 'notes', 'version'])\n",
    "\n",
    "electoral_result = electoral_result[electoral_result['year'] >= 2008]\n",
    "\n",
    "electoral_result.to_csv('/workspaces/Electoral-Economic-Analysis/electoral_analysis/2008-2020-president.csv')\n",
    "print(electoral_result.head())\n"
   ]
  },
  {
   "cell_type": "code",
   "execution_count": 26,
   "metadata": {},
   "outputs": [],
   "source": [
    "winning_percentage = round((electoral_result['candidatevotes'] / electoral_result['totalvotes']) * 100, 2)\n",
    "electoral_result['winning_percentage'] = winning_percentage\n"
   ]
  },
  {
   "cell_type": "code",
   "execution_count": 28,
   "metadata": {},
   "outputs": [],
   "source": [
    "# Drop only the columns that exist in the DataFrame\n",
    "columns_to_drop = ['candidatevotes', 'totalvotes', 'party_simplified']\n",
    "existing_columns_to_drop = [col for col in columns_to_drop if col in electoral_result.columns]\n",
    "electoral_result = electoral_result.drop(columns=existing_columns_to_drop)\n",
    "\n",
    "filtered_electoral_result = electoral_result[electoral_result['party_detailed'].isin(['REPUBLICAN', 'DEMOCRAT'])]\n",
    "\n",
    "# Save the filtered DataFrame to a CSV file\n",
    "filtered_electoral_result.to_csv('/workspaces/Electoral-Economic-Analysis/electoral_analysis/processed_2008-2020-president.csv', index=False)"
   ]
  }
 ],
 "metadata": {
  "kernelspec": {
   "display_name": "Python 3",
   "language": "python",
   "name": "python3"
  },
  "language_info": {
   "codemirror_mode": {
    "name": "ipython",
    "version": 3
   },
   "file_extension": ".py",
   "mimetype": "text/x-python",
   "name": "python",
   "nbconvert_exporter": "python",
   "pygments_lexer": "ipython3",
   "version": "3.12.1"
  }
 },
 "nbformat": 4,
 "nbformat_minor": 2
}

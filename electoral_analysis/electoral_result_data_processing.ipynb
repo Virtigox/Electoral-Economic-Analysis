{
 "cells": [
  {
   "cell_type": "code",
   "execution_count": 6,
   "metadata": {},
   "outputs": [
    {
     "name": "stdout",
     "output_type": "stream",
     "text": [
      "      year    state        office         candidate party_detailed  \\\n",
      "2728  2008  ALABAMA  US PRESIDENT      MCCAIN, JOHN     REPUBLICAN   \n",
      "2729  2008  ALABAMA  US PRESIDENT  OBAMA, BARACK H.       DEMOCRAT   \n",
      "2730  2008  ALABAMA  US PRESIDENT               NaN    INDEPENDENT   \n",
      "2731  2008  ALABAMA  US PRESIDENT               NaN            NaN   \n",
      "2732  2008   ALASKA  US PRESIDENT      MCCAIN, JOHN     REPUBLICAN   \n",
      "\n",
      "      candidatevotes  totalvotes party_simplified  \n",
      "2728         1266546     2099819       REPUBLICAN  \n",
      "2729          813479     2099819         DEMOCRAT  \n",
      "2730           16089     2099819            OTHER  \n",
      "2731            3705     2099819            OTHER  \n",
      "2732          193841      326197       REPUBLICAN  \n"
     ]
    }
   ],
   "source": [
    "import pandas as pd\n",
    "electoral_result = pd.read_csv('/workspaces/Electoral-Economic-Analysis/electoral_analysis/1976-2020-president.csv')\n",
    "\n",
    "electoral_result = electoral_result.drop(columns=['state_po', 'state_fips', 'state_cen', 'state_ic', 'writein', 'notes', 'version'])\n",
    "\n",
    "electoral_result = electoral_result[electoral_result['year'] >= 2008]\n",
    "\n",
    "electoral_result.to_csv('/workspaces/Electoral-Economic-Analysis/electoral_analysis/2008-2020-president.csv')\n",
    "print(electoral_result.head())\n"
   ]
  },
  {
   "cell_type": "code",
   "execution_count": null,
   "metadata": {},
   "outputs": [],
   "source": []
  }
 ],
 "metadata": {
  "kernelspec": {
   "display_name": "Python 3",
   "language": "python",
   "name": "python3"
  },
  "language_info": {
   "codemirror_mode": {
    "name": "ipython",
    "version": 3
   },
   "file_extension": ".py",
   "mimetype": "text/x-python",
   "name": "python",
   "nbconvert_exporter": "python",
   "pygments_lexer": "ipython3",
   "version": "3.12.1"
  }
 },
 "nbformat": 4,
 "nbformat_minor": 2
}

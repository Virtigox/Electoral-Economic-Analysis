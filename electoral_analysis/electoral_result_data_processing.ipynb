{
 "cells": [
  {
   "cell_type": "code",
   "execution_count": null,
   "metadata": {},
   "outputs": [],
   "source": [
    "import pandas as pd\n",
    "electoral_result = pd.read_csv('/workspaces/Electoral-Economic-Analysis/electoral_analysis/1976-2020-president.csv')\n",
    "\n",
    "electoral_result = electoral_result.drop(columns=['state_po', 'state_fips', 'state_cen', 'state_ic', 'writein', 'notes', 'version'])\n",
    "\n",
    "electoral_result = electoral_result[electoral_result['year'] >= 2008]\n",
    "\n",
    "electoral_result.to_csv('/workspaces/Electoral-Economic-Analysis/electoral_analysis/2008-2020-president.csv')\n",
    "print(electoral_result.head())\n"
   ]
  },
  {
   "cell_type": "code",
   "execution_count": 5,
   "metadata": {},
   "outputs": [],
   "source": [
    "winning_percentage = round((electoral_result['candidatevotes'] / electoral_result['totalvotes']) * 100, 2)\n",
    "electoral_result['winning_percentage'] = winning_percentage\n"
   ]
  },
  {
   "cell_type": "code",
   "execution_count": null,
   "metadata": {},
   "outputs": [],
   "source": [
    "# Drop only the columns that exist in the DataFrame\n",
    "columns_to_drop = ['candidatevotes', 'totalvotes', 'party_simplified']\n",
    "existing_columns_to_drop = [col for col in columns_to_drop if col in electoral_result.columns]\n",
    "electoral_result = electoral_result.drop(columns=existing_columns_to_drop)\n",
    "\n",
    "filtered_electoral_result = electoral_result[electoral_result['party_detailed'].isin(['REPUBLICAN', 'DEMOCRAT'])]\n",
    "\n",
    "\n",
    "df = pd.DataFrame(filtered_electoral_result)\n",
    "\n",
    "# Reshape the DataFrame\n",
    "merged = df.groupby(['year', 'state', 'office']).apply(lambda group: pd.Series({\n",
    "    'Winning Candidate': group.loc[group['winning_percentage'].idxmax(), 'candidate'],\n",
    "    'Winning Party': group.loc[group['winning_percentage'].idxmax(), 'party_detailed'],\n",
    "    'Winning Percentage': group['winning_percentage'].max(),\n",
    "    'Losing Candidate': group.loc[group['winning_percentage'].idxmin(), 'candidate'],\n",
    "    'Losing Party': group.loc[group['winning_percentage'].idxmin(), 'party_detailed'],\n",
    "    'Losing Percentage': group['winning_percentage'].min()\n",
    "})).reset_index()\n",
    "\n",
    "\n",
    "# Rename several rows to fit the format of the other datasets\n",
    "merged = merged.rename(columns={'state': 'State', 'office': 'Office', 'year': 'Year'})\n",
    "# Display the merged DataFrame\n",
    "print(merged)\n",
    "merged.to_csv('/workspaces/Electoral-Economic-Analysis/electoral_analysis/processed_electoral_data.csv', index=False)"
   ]
  }
 ],
 "metadata": {
  "kernelspec": {
   "display_name": "Python 3",
   "language": "python",
   "name": "python3"
  },
  "language_info": {
   "codemirror_mode": {
    "name": "ipython",
    "version": 3
   },
   "file_extension": ".py",
   "mimetype": "text/x-python",
   "name": "python",
   "nbconvert_exporter": "python",
   "pygments_lexer": "ipython3",
   "version": "3.12.1"
  }
 },
 "nbformat": 4,
 "nbformat_minor": 2
}

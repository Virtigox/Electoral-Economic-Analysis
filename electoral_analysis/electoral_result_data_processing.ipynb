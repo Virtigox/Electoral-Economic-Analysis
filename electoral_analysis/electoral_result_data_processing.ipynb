{
 "cells": [
  {
   "cell_type": "code",
   "execution_count": 4,
   "metadata": {},
   "outputs": [
    {
     "name": "stdout",
     "output_type": "stream",
     "text": [
      "      year    state        office         candidate party_detailed  \\\n",
      "2728  2008  ALABAMA  US PRESIDENT      MCCAIN, JOHN     REPUBLICAN   \n",
      "2729  2008  ALABAMA  US PRESIDENT  OBAMA, BARACK H.       DEMOCRAT   \n",
      "2730  2008  ALABAMA  US PRESIDENT               NaN    INDEPENDENT   \n",
      "2731  2008  ALABAMA  US PRESIDENT               NaN            NaN   \n",
      "2732  2008   ALASKA  US PRESIDENT      MCCAIN, JOHN     REPUBLICAN   \n",
      "\n",
      "      candidatevotes  totalvotes party_simplified  \n",
      "2728         1266546     2099819       REPUBLICAN  \n",
      "2729          813479     2099819         DEMOCRAT  \n",
      "2730           16089     2099819            OTHER  \n",
      "2731            3705     2099819            OTHER  \n",
      "2732          193841      326197       REPUBLICAN  \n"
     ]
    }
   ],
   "source": [
    "import pandas as pd\n",
    "electoral_result = pd.read_csv('/workspaces/Electoral-Economic-Analysis/electoral_analysis/1976-2020-president.csv')\n",
    "\n",
    "electoral_result = electoral_result.drop(columns=['state_po', 'state_fips', 'state_cen', 'state_ic', 'writein', 'notes', 'version'])\n",
    "\n",
    "electoral_result = electoral_result[electoral_result['year'] >= 2008]\n",
    "\n",
    "electoral_result.to_csv('/workspaces/Electoral-Economic-Analysis/electoral_analysis/2008-2020-president.csv')\n",
    "print(electoral_result.head())\n"
   ]
  },
  {
   "cell_type": "code",
   "execution_count": 5,
   "metadata": {},
   "outputs": [],
   "source": [
    "winning_percentage = round((electoral_result['candidatevotes'] / electoral_result['totalvotes']) * 100, 2)\n",
    "electoral_result['winning_percentage'] = winning_percentage\n"
   ]
  },
  {
   "cell_type": "code",
   "execution_count": 6,
   "metadata": {},
   "outputs": [
    {
     "name": "stdout",
     "output_type": "stream",
     "text": [
      "     Year          State        Office    Winning Candidate Winning Party  \\\n",
      "0    2008        ALABAMA  US PRESIDENT         MCCAIN, JOHN    REPUBLICAN   \n",
      "1    2008         ALASKA  US PRESIDENT         MCCAIN, JOHN    REPUBLICAN   \n",
      "2    2008        ARIZONA  US PRESIDENT         MCCAIN, JOHN    REPUBLICAN   \n",
      "3    2008       ARKANSAS  US PRESIDENT         MCCAIN, JOHN    REPUBLICAN   \n",
      "4    2008     CALIFORNIA  US PRESIDENT     OBAMA, BARACK H.      DEMOCRAT   \n",
      "..    ...            ...           ...                  ...           ...   \n",
      "199  2020       VIRGINIA  US PRESIDENT  BIDEN, JOSEPH R. JR      DEMOCRAT   \n",
      "200  2020     WASHINGTON  US PRESIDENT  BIDEN, JOSEPH R. JR      DEMOCRAT   \n",
      "201  2020  WEST VIRGINIA  US PRESIDENT     TRUMP, DONALD J.    REPUBLICAN   \n",
      "202  2020      WISCONSIN  US PRESIDENT  BIDEN, JOSEPH R. JR      DEMOCRAT   \n",
      "203  2020        WYOMING  US PRESIDENT     TRUMP, DONALD J.    REPUBLICAN   \n",
      "\n",
      "     Winning Percentage     Losing Candidate Losing Party  Losing Percentage  \n",
      "0                 60.32     OBAMA, BARACK H.     DEMOCRAT              38.74  \n",
      "1                 59.42     OBAMA, BARACK H.     DEMOCRAT              37.89  \n",
      "2                 53.64     OBAMA, BARACK H.     DEMOCRAT              45.12  \n",
      "3                 58.72     OBAMA, BARACK H.     DEMOCRAT              38.86  \n",
      "4                 61.01         MCCAIN, JOHN   REPUBLICAN              36.95  \n",
      "..                  ...                  ...          ...                ...  \n",
      "199               54.11     TRUMP, DONALD J.   REPUBLICAN              44.00  \n",
      "200               57.97     TRUMP, DONALD J.   REPUBLICAN              38.77  \n",
      "201               68.63  BIDEN, JOSEPH R. JR     DEMOCRAT              29.70  \n",
      "202               49.45     TRUMP, DONALD J.   REPUBLICAN              48.82  \n",
      "203               69.50  BIDEN, JOSEPH R. JR     DEMOCRAT              26.39  \n",
      "\n",
      "[204 rows x 9 columns]\n"
     ]
    },
    {
     "name": "stderr",
     "output_type": "stream",
     "text": [
      "/tmp/ipykernel_6489/4098722836.py:12: DeprecationWarning: DataFrameGroupBy.apply operated on the grouping columns. This behavior is deprecated, and in a future version of pandas the grouping columns will be excluded from the operation. Either pass `include_groups=False` to exclude the groupings or explicitly select the grouping columns after groupby to silence this warning.\n",
      "  merged = df.groupby(['year', 'state', 'office']).apply(lambda group: pd.Series({\n"
     ]
    }
   ],
   "source": [
    "# Drop only the columns that exist in the DataFrame\n",
    "columns_to_drop = ['candidatevotes', 'totalvotes', 'party_simplified']\n",
    "existing_columns_to_drop = [col for col in columns_to_drop if col in electoral_result.columns]\n",
    "electoral_result = electoral_result.drop(columns=existing_columns_to_drop)\n",
    "\n",
    "filtered_electoral_result = electoral_result[electoral_result['party_detailed'].isin(['REPUBLICAN', 'DEMOCRAT'])]\n",
    "\n",
    "\n",
    "df = pd.DataFrame(filtered_electoral_result)\n",
    "\n",
    "# Reshape the DataFrame\n",
    "merged = df.groupby(['year', 'state', 'office']).apply(lambda group: pd.Series({\n",
    "    'Winning Candidate': group.loc[group['winning_percentage'].idxmax(), 'candidate'],\n",
    "    'Winning Party': group.loc[group['winning_percentage'].idxmax(), 'party_detailed'],\n",
    "    'Winning Percentage': group['winning_percentage'].max(),\n",
    "    'Losing Candidate': group.loc[group['winning_percentage'].idxmin(), 'candidate'],\n",
    "    'Losing Party': group.loc[group['winning_percentage'].idxmin(), 'party_detailed'],\n",
    "    'Losing Percentage': group['winning_percentage'].min()\n",
    "})).reset_index()\n",
    "\n",
    "\n",
    "# Rename several rows to fit the format of the other datasets\n",
    "merged = merged.rename(columns={'state': 'State', 'office': 'Office', 'year': 'Year'})\n",
    "# Display the merged DataFrame\n",
    "print(merged)\n",
    "merged.to_csv('/workspaces/Electoral-Economic-Analysis/electoral_analysis/processed_electoral_data.csv', index=False)"
   ]
  }
 ],
 "metadata": {
  "kernelspec": {
   "display_name": "Python 3",
   "language": "python",
   "name": "python3"
  },
  "language_info": {
   "codemirror_mode": {
    "name": "ipython",
    "version": 3
   },
   "file_extension": ".py",
   "mimetype": "text/x-python",
   "name": "python",
   "nbconvert_exporter": "python",
   "pygments_lexer": "ipython3",
   "version": "3.12.1"
  }
 },
 "nbformat": 4,
 "nbformat_minor": 2
}

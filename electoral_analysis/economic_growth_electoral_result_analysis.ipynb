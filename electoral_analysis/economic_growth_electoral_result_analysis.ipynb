{
 "cells": [
  {
   "cell_type": "code",
   "execution_count": 77,
   "metadata": {},
   "outputs": [],
   "source": [
    "import pandas as pd\n",
    "import os\n",
    "\n",
    "\n",
    "# Example usage\n",
    "economic_data_path = '/workspaces/Electoral-Economic-Analysis/electoral_analysis/processed_bea_economic_growth.csv'\n",
    "electoral_data_path = '/workspaces/Electoral-Economic-Analysis/electoral_analysis/processed_electoral_data.csv'\n"
   ]
  },
  {
   "cell_type": "code",
   "execution_count": 71,
   "metadata": {},
   "outputs": [],
   "source": [
    "def filtering_economic_indicator(data, indicator, year):\n",
    "    filtered_data = data[(data['Indicator'] == indicator) & (data['Cycle Duration'] == year)]\n",
    "    return filtered_data\n",
    "\n",
    "def filtering_electoral_data(data, year):\n",
    "    filtered_data = data[data['Year'] == year]\n",
    "    return filtered_data\n",
    "\n",
    "# realGDP_data_2009_2013 = filtering_economic_indicator(economic_data, 'Real GDP', '2009-2013')\n",
    "# election_2008_data =  filtering_electoral_data(electoral_data, 2008)\n",
    "\n",
    "# print(realGDP_data_2009_2013.head())\n",
    "# print(election_2008_data.head())"
   ]
  },
  {
   "cell_type": "code",
   "execution_count": 78,
   "metadata": {},
   "outputs": [],
   "source": [
    "# def normalize_dataset(economic_data, electoral_data, indicator, cycle_duration, election_year):\n",
    "#     # Normalize the column names for merging\n",
    "#     economic_data = economic_data.rename(columns={\"State\": \"state\", \"Cycle Duration\": \"cycle_duration\"})\n",
    "#     electoral_data = electoral_data.rename(columns={\"State\": \"state\", \"Year\": \"year\"})\n",
    "\n",
    "#     # Ensure 'state' columns are in the same format (e.g., uppercase)\n",
    "#     economic_data['state'] = economic_data['state'].str.upper()\n",
    "#     electoral_data['state'] = electoral_data['state'].str.upper()\n",
    "\n",
    "#     # Ensure 'year' columns are integers\n",
    "#     electoral_data['year'] = electoral_data['year'].astype(int)\n",
    "\n",
    "#     # Filter economic data for the specified indicator and cycle duration\n",
    "#     economic_df = economic_data.loc[(economic_data['Indicator'] == indicator) & (economic_data['cycle_duration'] == cycle_duration)].copy()\n",
    "\n",
    "#     # Adjust the end year to match the election year\n",
    "#     economic_df.loc[:, 'End Year'] = economic_df['cycle_duration'].str.split('-').str[1].astype(int) - 1\n",
    "\n",
    "#     # Filter the economic data to match the election year\n",
    "#     economic_df = economic_df.loc[economic_df['End Year'] == election_year]\n",
    "\n",
    "#     # Filter electoral data for the specified election year\n",
    "#     election_df = electoral_data.loc[electoral_data['year'] == election_year]\n",
    "\n",
    "#     return economic_df, election_df\n",
    "\n",
    "\n",
    "def normalize_data(economic_data, electoral_data):\n",
    "    # Normalize the column names for merging\n",
    "    economic_data = economic_data.rename(columns={\"State\": \"state\", \"Cycle Duration\": \"cycle_duration\"})\n",
    "    electoral_data = electoral_data.rename(columns={\"State\": \"state\", \"Year\": \"year\"})\n",
    "\n",
    "    # Ensure 'state' columns are in the same format (e.g., uppercase)\n",
    "    economic_data['state'] = economic_data['state'].str.upper()\n",
    "    electoral_data['state'] = electoral_data['state'].str.upper()\n",
    "\n",
    "    # Ensure 'year' columns are integers\n",
    "    electoral_data['year'] = electoral_data['year'].astype(int)\n",
    "\n",
    "    # Add 'End Year' column to economic data\n",
    "    economic_data['End Year'] = economic_data['cycle_duration'].str.split('-').str[1].astype(int) - 1\n",
    "\n",
    "    return economic_data, electoral_data\n",
    "\n"
   ]
  },
  {
   "cell_type": "code",
   "execution_count": 79,
   "metadata": {},
   "outputs": [],
   "source": [
    "\n",
    "def merge_economic_electoral_data(economic_data, electoral_data, indicator, cycle_duration, election_year):\n",
    "    # Filter economic data for the specified indicator and cycle duration\n",
    "    economic_df = economic_data.loc[(economic_data['Indicator'] == indicator) & (economic_data['cycle_duration'] == cycle_duration)].copy()\n",
    "\n",
    "    # Filter the economic data to match the election year\n",
    "    economic_df = economic_df.loc[economic_df['End Year'] == election_year]\n",
    "\n",
    "    # Filter electoral data for the specified election year\n",
    "    election_df = electoral_data.loc[electoral_data['year'] == election_year]\n",
    "\n",
    "    # Merge the datasets\n",
    "    merged_df = pd.merge(economic_df, election_df, left_on=['state', 'End Year'], right_on=['state', 'year'], how='inner')\n",
    "\n",
    "    # Drop unnecessary columns\n",
    "    merged_df = merged_df.drop(columns=[\"End Year\"])\n",
    "\n",
    "    return merged_df\n",
    "\n",
    "# Example usage\n",
    "# merged_data = load_and_merge_economic_electoral_data(economic_data_path, electoral_data_path, 'Real GDP', '2009-2013', 2012)\n",
    "# print(merged_data.head())"
   ]
  },
  {
   "cell_type": "code",
   "execution_count": 81,
   "metadata": {},
   "outputs": [
    {
     "name": "stdout",
     "output_type": "stream",
     "text": [
      "Successfully merged Real GDP for 2009-2013 with election year 2012\n",
      "Successfully merged Real GDP for 2013-2017 with election year 2016\n",
      "Successfully merged Real GDP for 2017-2021 with election year 2020\n",
      "Successfully merged Real Per Capita Personal Income for 2009-2013 with election year 2012\n",
      "Successfully merged Real Per Capita Personal Income for 2013-2017 with election year 2016\n",
      "Successfully merged Real Per Capita Personal Income for 2017-2021 with election year 2020\n",
      "Successfully merged Real Personal Income for 2009-2013 with election year 2012\n",
      "Successfully merged Real Personal Income for 2013-2017 with election year 2016\n",
      "Successfully merged Real Personal Income for 2017-2021 with election year 2020\n",
      "Successfully merged Real Per Capita PCE for 2009-2013 with election year 2012\n",
      "Successfully merged Real Per Capita PCE for 2013-2017 with election year 2016\n",
      "Successfully merged Real Per Capita PCE for 2017-2021 with election year 2020\n",
      "Successfully merged Real PCE for 2009-2013 with election year 2012\n",
      "Successfully merged Real PCE for 2013-2017 with election year 2016\n",
      "Successfully merged Real PCE for 2017-2021 with election year 2020\n",
      "Successfully merged Total Employment for 2009-2013 with election year 2012\n",
      "Successfully merged Total Employment for 2013-2017 with election year 2016\n",
      "Successfully merged Total Employment for 2017-2021 with election year 2020\n"
     ]
    }
   ],
   "source": [
    "def process_all_combinations(economic_data_path, electoral_data_path, indicators, cycle_durations, election_years):\n",
    "    # Load the datasets\n",
    "    economic_data = pd.read_csv(economic_data_path)\n",
    "    electoral_data = pd.read_csv(electoral_data_path)\n",
    "\n",
    "    # Normalize the datasets\n",
    "    economic_data, electoral_data = normalize_data(economic_data, electoral_data)\n",
    "\n",
    "    # Define the correct pairs of cycle durations and election years\n",
    "    correct_pairs = {\n",
    "        '2009-2013': 2012,\n",
    "        '2013-2017': 2016,\n",
    "        '2017-2021': 2020\n",
    "    }\n",
    "\n",
    "    for indicator in indicators:\n",
    "        for cycle_duration, election_year in correct_pairs.items():\n",
    "            try:\n",
    "                merged_data = merge_economic_electoral_data(economic_data, electoral_data, indicator, cycle_duration, election_year)\n",
    "\n",
    "                # Create directory for the specific cycle duration and election year\n",
    "                directory = f'/workspaces/Electoral-Economic-Analysis/electoral_analysis/Economy_{cycle_duration}_Election_{election_year}'\n",
    "                os.makedirs(directory, exist_ok=True)\n",
    "                # Save the merged data to the directory\n",
    "                output_file = f'{directory}/merged_{indicator.replace(\" \", \"_\").lower()}.csv'\n",
    "                merged_data.to_csv(output_file, index=False)\n",
    "                print(f\"Successfully merged {indicator} for {cycle_duration} with election year {election_year}\")\n",
    "            except Exception as e:\n",
    "                print(f\"Error processing {indicator} for {cycle_duration} and {election_year}: {e}\")\n",
    "\n",
    "indicators = ['Real GDP', 'Real Per Capita Personal Income', 'Real Personal Income', 'Real Per Capita PCE', 'Real PCE', 'Total Employment']\n",
    "cycle_durations = ['2009-2013', '2013-2017', '2017-2021']\n",
    "election_years = [2012, 2016, 2020]\n",
    "process_all_combinations(economic_data_path, electoral_data_path, indicators, cycle_durations, election_years)\n",
    "# Example usage"
   ]
  },
  {
   "cell_type": "code",
   "execution_count": 76,
   "metadata": {},
   "outputs": [
    {
     "name": "stdout",
     "output_type": "stream",
     "text": [
      "Combined CSV saved to /workspaces/Electoral-Economic-Analysis/electoral_analysis/merged_economic_electoral_result.csv\n"
     ]
    }
   ],
   "source": []
  }
 ],
 "metadata": {
  "kernelspec": {
   "display_name": "Python 3",
   "language": "python",
   "name": "python3"
  },
  "language_info": {
   "codemirror_mode": {
    "name": "ipython",
    "version": 3
   },
   "file_extension": ".py",
   "mimetype": "text/x-python",
   "name": "python",
   "nbconvert_exporter": "python",
   "pygments_lexer": "ipython3",
   "version": "3.12.1"
  }
 },
 "nbformat": 4,
 "nbformat_minor": 2
}

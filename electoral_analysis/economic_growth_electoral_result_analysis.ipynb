{
 "cells": [
  {
   "cell_type": "code",
   "execution_count": 58,
   "metadata": {},
   "outputs": [
    {
     "name": "stdout",
     "output_type": "stream",
     "text": [
      "              State         Indicator     Term     President Cycle Duration  \\\n",
      "1           Alabama          Real GDP  Obama 1  Barack Obama      2009-2013   \n",
      "2            Alaska          Real GDP  Obama 1  Barack Obama      2009-2013   \n",
      "3           Arizona          Real GDP  Obama 1  Barack Obama      2009-2013   \n",
      "4          Arkansas          Real GDP  Obama 1  Barack Obama      2009-2013   \n",
      "5        California          Real GDP  Obama 1  Barack Obama      2009-2013   \n",
      "...             ...               ...      ...           ...            ...   \n",
      "1243       Virginia  Total Employment    Biden     Joe Biden      2021-2023   \n",
      "1244     Washington  Total Employment    Biden     Joe Biden      2021-2023   \n",
      "1245  West Virginia  Total Employment    Biden     Joe Biden      2021-2023   \n",
      "1246      Wisconsin  Total Employment    Biden     Joe Biden      2021-2023   \n",
      "1247        Wyoming  Total Employment    Biden     Joe Biden      2021-2023   \n",
      "\n",
      "      Overall Growth (%)  Average Growth (%)  \n",
      "1                   6.58                1.61  \n",
      "2                  -0.59               -0.08  \n",
      "3                   7.73                1.88  \n",
      "4                   9.11                2.21  \n",
      "5                  10.88                2.62  \n",
      "...                  ...                 ...  \n",
      "1243                6.08                3.00  \n",
      "1244                6.71                3.30  \n",
      "1245                4.53                2.24  \n",
      "1246                4.69                2.32  \n",
      "1247                5.52                2.73  \n",
      "\n",
      "[1224 rows x 7 columns]\n"
     ]
    }
   ],
   "source": [
    "import pandas as pd\n",
    "\n",
    "economic_data = pd.read_csv('/workspaces/Electoral-Economic-Analysis/electoral_analysis/processed_bea_economic_growth.csv')\n",
    "electoral_data = pd.read_csv('/workspaces/Electoral-Economic-Analysis/electoral_analysis/processed_electoral_data.csv')\n",
    "\n",
    "states = [\"Alabama\", \"Alaska\", \"Arizona\", \"Arkansas\", \"California\", \"Colorado\", \"Connecticut\", \"Delaware\", \"Florida\", \"Georgia\", \n",
    "          \"Hawaii\", \"Idaho\", \"Illinois\", \"Indiana\", \"Iowa\", \"Kansas\", \"Kentucky\", \"Louisiana\", \"Maine\", \"Maryland\", \"Massachusetts\", \n",
    "          \"Michigan\", \"Minnesota\", \"Mississippi\", \"Missouri\", \"Montana\", \"Nebraska\", \"Nevada\", \"New Hampshire\", \"New Jersey\", \n",
    "          \"New Mexico\", \"New York\", \"North Carolina\", \"North Dakota\", \"Ohio\", \"Oklahoma\", \"Oregon\", \"Pennsylvania\", \"Rhode Island\", \n",
    "          \"South Carolina\", \"South Dakota\", \"Tennessee\", \"Texas\", \"Utah\", \"Vermont\", \"Virginia\", \"Washington\", \"West Virginia\", \n",
    "          \"Wisconsin\", \"Wyoming\", \"District of Columbia\"]\n",
    "\n",
    "economic_data = economic_data[economic_data['State'].isin(states)]\n",
    "print(economic_data)"
   ]
  },
  {
   "cell_type": "code",
   "execution_count": 59,
   "metadata": {},
   "outputs": [
    {
     "name": "stdout",
     "output_type": "stream",
     "text": [
      "   Year    State        Office Winning Candidate Winning Party  \\\n",
      "0  2008  ALABAMA  US PRESIDENT      MCCAIN, JOHN    REPUBLICAN   \n",
      "1  2008  ALABAMA  US PRESIDENT      MCCAIN, JOHN    REPUBLICAN   \n",
      "2  2008  ALABAMA  US PRESIDENT      MCCAIN, JOHN    REPUBLICAN   \n",
      "3  2008  ALABAMA  US PRESIDENT      MCCAIN, JOHN    REPUBLICAN   \n",
      "4  2008  ALABAMA  US PRESIDENT      MCCAIN, JOHN    REPUBLICAN   \n",
      "\n",
      "   Winning Percentage  Losing Candidate Losing Party  Losing Percentage  \\\n",
      "0               60.32  OBAMA, BARACK H.     DEMOCRAT              38.74   \n",
      "1               60.32  OBAMA, BARACK H.     DEMOCRAT              38.74   \n",
      "2               60.32  OBAMA, BARACK H.     DEMOCRAT              38.74   \n",
      "3               60.32  OBAMA, BARACK H.     DEMOCRAT              38.74   \n",
      "4               60.32  OBAMA, BARACK H.     DEMOCRAT              38.74   \n",
      "\n",
      "                         Indicator     Term     President Cycle Duration  \\\n",
      "0                         Real GDP  Obama 1  Barack Obama      2009-2013   \n",
      "1             Real Personal Income  Obama 1  Barack Obama      2009-2013   \n",
      "2                         Real PCE  Obama 1  Barack Obama      2009-2013   \n",
      "3  Real Per Capita Personal Income  Obama 1  Barack Obama      2009-2013   \n",
      "4              Real Per Capita PCE  Obama 1  Barack Obama      2009-2013   \n",
      "\n",
      "   Overall Growth (%)  Average Growth (%)  \n",
      "0                6.58                1.61  \n",
      "1                0.68                0.17  \n",
      "2                1.25                0.32  \n",
      "3               -1.52               -0.38  \n",
      "4               -0.96               -0.24  \n"
     ]
    }
   ],
   "source": [
    "# Normalize the column names for merging\n",
    "# economic_data.rename(columns={\"State\": \"state\", \"Cycle Duration\": \"cycle_duration\"}, inplace=True)\n",
    "# electoral_data.rename(columns={\"State\": \"state\", \"Year\": \"year\"}, inplace=True)\n",
    "\n",
    "# # Step 1: Extract Start and End Years from Cycle Duration\n",
    "# economic_data[['Start Year', 'End Year']] = economic_data['cycle_duration'].str.split('-', expand=True).astype(int)\n",
    "\n",
    "# Step 2: Map Winning Candidate to President\n",
    "# candidate_to_president = {\n",
    "#     \"MCCAIN, JOHN\": \"John McCain\",\n",
    "#     \"OBAMA, BARACK H.\": \"Barack Obama\"\n",
    "# }\n",
    "# electoral_data[\"President\"] = electoral_data[\"Winning Candidate\"].map(candidate_to_president)\n",
    "\n",
    "# Ensure 'state' columns are in the same format (e.g., uppercase)\n",
    "economic_data['State'] = economic_data['State'].str.upper()\n",
    "electoral_data['State'] = electoral_data['State'].str.upper()\n",
    "\n",
    "# Ensure 'year' columns are integers\n",
    "# economic_data['Start Year'] = economic_data['Start Year'].astype(int)\n",
    "# economic_data['End Year'] = economic_data['End Year'].astype(int)\n",
    "# electoral_data['year'] = electoral_data['year'].astype(int)\n",
    "\n",
    "# # Step 3: Merge based on Year and President\n",
    "\n",
    "merged_data = pd.merge(\n",
    "    electoral_data,\n",
    "    economic_data,\n",
    "    left_on=[\"State\"],\n",
    "    right_on=[\"State\"],\n",
    "    how=\"left\"\n",
    ")\n",
    "\n",
    "# # Drop unnecessary columns and clean up the data\n",
    "# merged_data = merged_data.drop(columns=[\"Start Year\", \"End Year\"])\n",
    "\n",
    "# Display the merged dataset\n",
    "print(merged_data.head())\n",
    "\n",
    "# # Calculate correlations\n",
    "# correlation_matrix = merged_data.corr()\n",
    "\n",
    "# # Print the correlation matrix\n",
    "# print(correlation_matrix)\n",
    "\n",
    "# Save the correlation matrix to a CSV file\n",
    "# correlation_matrix.to_csv(\"/workspaces/Electoral-Economic-Analysis/electoral_analysis/realGDP_correlation_data.csv\")"
   ]
  },
  {
   "cell_type": "code",
   "execution_count": 62,
   "metadata": {},
   "outputs": [
    {
     "name": "stdout",
     "output_type": "stream",
     "text": [
      "51\n",
      "51\n",
      "51\n",
      "51\n",
      "51\n",
      "51\n",
      "51\n"
     ]
    }
   ],
   "source": [
    "# Filter data for Real GDP\n",
    "realGDP_data = merged_data[merged_data['Indicator'] == 'Real GDP']\n",
    "\n",
    "# Filter data for Real per capita personal income\n",
    "real_per_capita_personal_income_data = merged_data[merged_data['Indicator'] == 'Real Per Capita Personal Income']\n",
    "\n",
    "# Filter data for Real personal income\n",
    "real_personal_income_data = merged_data[merged_data['Indicator'] == 'Real Personal Income']\n",
    "\n",
    "# Filter data for Real per capita PCE\n",
    "real_per_capita_PCE_data = merged_data[merged_data['Indicator'] == 'Real Per Capita PCE']\n",
    "\n",
    "# Filter data for Real PCE\n",
    "real_PCE_data = merged_data[merged_data['Indicator'] == 'Real PCE']\n",
    "\n",
    "# Filter data for Total employment\n",
    "total_employment_data = merged_data[merged_data['Indicator'] == 'Total Employment']\n",
    "\n",
    "# Print the number of unique states in each filtered dataset\n",
    "print(len(realGDP_data['State'].unique()))\n",
    "print(len(real_per_capita_personal_income_data['State'].unique()))\n",
    "print(len(real_personal_income_data['State'].unique()))\n",
    "print(len(real_per_capita_PCE_data['State'].unique()))\n",
    "print(len(real_PCE_data['State'].unique()))\n",
    "print(len(total_employment_data['State'].unique()))\n",
    "\n",
    "# Print the number of unique states in the electoral data\n",
    "print(len(electoral_data['State'].unique()))\n",
    "\n"
   ]
  },
  {
   "cell_type": "code",
   "execution_count": 63,
   "metadata": {},
   "outputs": [
    {
     "name": "stdout",
     "output_type": "stream",
     "text": [
      "    Year    State        Office Winning Candidate Winning Party  \\\n",
      "0   2008  ALABAMA  US PRESIDENT      MCCAIN, JOHN    REPUBLICAN   \n",
      "6   2008  ALABAMA  US PRESIDENT      MCCAIN, JOHN    REPUBLICAN   \n",
      "12  2008  ALABAMA  US PRESIDENT      MCCAIN, JOHN    REPUBLICAN   \n",
      "18  2008  ALABAMA  US PRESIDENT      MCCAIN, JOHN    REPUBLICAN   \n",
      "24  2008   ALASKA  US PRESIDENT      MCCAIN, JOHN    REPUBLICAN   \n",
      "\n",
      "    Winning Percentage  Losing Candidate Losing Party  Losing Percentage  \\\n",
      "0                60.32  OBAMA, BARACK H.     DEMOCRAT              38.74   \n",
      "6                60.32  OBAMA, BARACK H.     DEMOCRAT              38.74   \n",
      "12               60.32  OBAMA, BARACK H.     DEMOCRAT              38.74   \n",
      "18               60.32  OBAMA, BARACK H.     DEMOCRAT              38.74   \n",
      "24               59.42  OBAMA, BARACK H.     DEMOCRAT              37.89   \n",
      "\n",
      "   Indicator     Term     President Cycle Duration  Overall Growth (%)  \\\n",
      "0   Real GDP  Obama 1  Barack Obama      2009-2013                6.58   \n",
      "6   Real GDP  Obama 2  Barack Obama      2013-2017                4.66   \n",
      "12  Real GDP    Trump  Donald Trump      2017-2021                7.90   \n",
      "18  Real GDP    Biden     Joe Biden      2021-2023                4.98   \n",
      "24  Real GDP  Obama 1  Barack Obama      2009-2013               -0.59   \n",
      "\n",
      "    Average Growth (%)  \n",
      "0                 1.61  \n",
      "6                 1.15  \n",
      "12                1.94  \n",
      "18                2.46  \n",
      "24               -0.08  \n"
     ]
    }
   ],
   "source": [
    "print(realGDP_data.head())\n",
    "# print(real_per_capita_personal_income_data)\n",
    "# print(real_personal_income_data)\n",
    "# print(real_per_capita_PCE_data)\n",
    "# print(real_PCE_data)\n",
    "# print(total_employment_data)\n",
    "pd.DataFrame(realGDP_data).to_csv(\"/workspaces/Electoral-Economic-Analysis/electoral_analysis/realGDP_data.csv\")"
   ]
  },
  {
   "cell_type": "code",
   "execution_count": null,
   "metadata": {},
   "outputs": [],
   "source": []
  }
 ],
 "metadata": {
  "kernelspec": {
   "display_name": "Python 3",
   "language": "python",
   "name": "python3"
  },
  "language_info": {
   "codemirror_mode": {
    "name": "ipython",
    "version": 3
   },
   "file_extension": ".py",
   "mimetype": "text/x-python",
   "name": "python",
   "nbconvert_exporter": "python",
   "pygments_lexer": "ipython3",
   "version": "3.12.1"
  }
 },
 "nbformat": 4,
 "nbformat_minor": 2
}

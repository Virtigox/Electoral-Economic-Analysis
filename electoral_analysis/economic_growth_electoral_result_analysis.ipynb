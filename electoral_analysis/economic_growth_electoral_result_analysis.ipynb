{
 "cells": [
  {
   "cell_type": "code",
   "execution_count": 1,
   "metadata": {},
   "outputs": [
    {
     "name": "stdout",
     "output_type": "stream",
     "text": [
      "              State         Indicator     Term     President Cycle Duration  \\\n",
      "1           Alabama          Real GDP  Obama 1  Barack Obama      2009-2013   \n",
      "2            Alaska          Real GDP  Obama 1  Barack Obama      2009-2013   \n",
      "3           Arizona          Real GDP  Obama 1  Barack Obama      2009-2013   \n",
      "4          Arkansas          Real GDP  Obama 1  Barack Obama      2009-2013   \n",
      "5        California          Real GDP  Obama 1  Barack Obama      2009-2013   \n",
      "...             ...               ...      ...           ...            ...   \n",
      "1243       Virginia  Total Employment    Biden     Joe Biden      2021-2023   \n",
      "1244     Washington  Total Employment    Biden     Joe Biden      2021-2023   \n",
      "1245  West Virginia  Total Employment    Biden     Joe Biden      2021-2023   \n",
      "1246      Wisconsin  Total Employment    Biden     Joe Biden      2021-2023   \n",
      "1247        Wyoming  Total Employment    Biden     Joe Biden      2021-2023   \n",
      "\n",
      "      Overall Growth (%)  Average Growth (%)  \n",
      "1                   6.58                1.61  \n",
      "2                  -0.59               -0.08  \n",
      "3                   7.73                1.88  \n",
      "4                   9.11                2.21  \n",
      "5                  10.88                2.62  \n",
      "...                  ...                 ...  \n",
      "1243                6.08                3.00  \n",
      "1244                6.71                3.30  \n",
      "1245                4.53                2.24  \n",
      "1246                4.69                2.32  \n",
      "1247                5.52                2.73  \n",
      "\n",
      "[1224 rows x 7 columns]\n"
     ]
    }
   ],
   "source": [
    "import pandas as pd\n",
    "\n",
    "ecomomic_data = pd.read_csv('/workspaces/Electoral-Economic-Analysis/electoral_analysis/processed_bea_economic_growth.csv')\n",
    "electoral_data = pd.read_csv('/workspaces/Electoral-Economic-Analysis/electoral_analysis/processed_2008-2020-president.csv')\n",
    "\n",
    "states = [\"Alabama\", \"Alaska\", \"Arizona\", \"Arkansas\", \"California\", \"Colorado\", \"Connecticut\", \"Delaware\", \"Florida\", \"Georgia\", \n",
    "          \"Hawaii\", \"Idaho\", \"Illinois\", \"Indiana\", \"Iowa\", \"Kansas\", \"Kentucky\", \"Louisiana\", \"Maine\", \"Maryland\", \"Massachusetts\", \n",
    "          \"Michigan\", \"Minnesota\", \"Mississippi\", \"Missouri\", \"Montana\", \"Nebraska\", \"Nevada\", \"New Hampshire\", \"New Jersey\", \n",
    "          \"New Mexico\", \"New York\", \"North Carolina\", \"North Dakota\", \"Ohio\", \"Oklahoma\", \"Oregon\", \"Pennsylvania\", \"Rhode Island\", \n",
    "          \"South Carolina\", \"South Dakota\", \"Tennessee\", \"Texas\", \"Utah\", \"Vermont\", \"Virginia\", \"Washington\", \"West Virginia\", \n",
    "          \"Wisconsin\", \"Wyoming\", \"District of Columbia\"]\n",
    "\n",
    "ecomomic_data = ecomomic_data[ecomomic_data['State'].isin(states)]\n",
    "print(ecomomic_data)"
   ]
  },
  {
   "cell_type": "code",
   "execution_count": null,
   "metadata": {},
   "outputs": [
    {
     "name": "stdout",
     "output_type": "stream",
     "text": [
      "     year          state        office    Winning Candidate Winning Party  \\\n",
      "0    2008        ALABAMA  US PRESIDENT         MCCAIN, JOHN    REPUBLICAN   \n",
      "1    2008         ALASKA  US PRESIDENT         MCCAIN, JOHN    REPUBLICAN   \n",
      "2    2008        ARIZONA  US PRESIDENT         MCCAIN, JOHN    REPUBLICAN   \n",
      "3    2008       ARKANSAS  US PRESIDENT         MCCAIN, JOHN    REPUBLICAN   \n",
      "4    2008     CALIFORNIA  US PRESIDENT     OBAMA, BARACK H.      DEMOCRAT   \n",
      "..    ...            ...           ...                  ...           ...   \n",
      "199  2020       VIRGINIA  US PRESIDENT  BIDEN, JOSEPH R. JR      DEMOCRAT   \n",
      "200  2020     WASHINGTON  US PRESIDENT  BIDEN, JOSEPH R. JR      DEMOCRAT   \n",
      "201  2020  WEST VIRGINIA  US PRESIDENT     TRUMP, DONALD J.    REPUBLICAN   \n",
      "202  2020      WISCONSIN  US PRESIDENT  BIDEN, JOSEPH R. JR      DEMOCRAT   \n",
      "203  2020        WYOMING  US PRESIDENT     TRUMP, DONALD J.    REPUBLICAN   \n",
      "\n",
      "     Winning Percentage     Losing Candidate Losing Party  Losing Percentage  \n",
      "0                 60.32     OBAMA, BARACK H.     DEMOCRAT              38.74  \n",
      "1                 59.42     OBAMA, BARACK H.     DEMOCRAT              37.89  \n",
      "2                 53.64     OBAMA, BARACK H.     DEMOCRAT              45.12  \n",
      "3                 58.72     OBAMA, BARACK H.     DEMOCRAT              38.86  \n",
      "4                 61.01         MCCAIN, JOHN   REPUBLICAN              36.95  \n",
      "..                  ...                  ...          ...                ...  \n",
      "199               54.11     TRUMP, DONALD J.   REPUBLICAN              44.00  \n",
      "200               57.97     TRUMP, DONALD J.   REPUBLICAN              38.77  \n",
      "201               68.63  BIDEN, JOSEPH R. JR     DEMOCRAT              29.70  \n",
      "202               49.45     TRUMP, DONALD J.   REPUBLICAN              48.82  \n",
      "203               69.50  BIDEN, JOSEPH R. JR     DEMOCRAT              26.39  \n",
      "\n",
      "[204 rows x 9 columns]\n"
     ]
    },
    {
     "name": "stderr",
     "output_type": "stream",
     "text": [
      "/tmp/ipykernel_14359/165047660.py:6: DeprecationWarning: DataFrameGroupBy.apply operated on the grouping columns. This behavior is deprecated, and in a future version of pandas the grouping columns will be excluded from the operation. Either pass `include_groups=False` to exclude the groupings or explicitly select the grouping columns after groupby to silence this warning.\n",
      "  merged = df.groupby(['year', 'state', 'office']).apply(lambda group: pd.Series({\n"
     ]
    }
   ],
   "source": []
  }
 ],
 "metadata": {
  "kernelspec": {
   "display_name": "Python 3",
   "language": "python",
   "name": "python3"
  },
  "language_info": {
   "codemirror_mode": {
    "name": "ipython",
    "version": 3
   },
   "file_extension": ".py",
   "mimetype": "text/x-python",
   "name": "python",
   "nbconvert_exporter": "python",
   "pygments_lexer": "ipython3",
   "version": "3.12.1"
  }
 },
 "nbformat": 4,
 "nbformat_minor": 2
}

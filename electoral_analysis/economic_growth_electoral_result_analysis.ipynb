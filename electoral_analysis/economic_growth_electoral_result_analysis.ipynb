{
 "cells": [
  {
   "cell_type": "code",
   "execution_count": 5,
   "metadata": {},
   "outputs": [
    {
     "name": "stdout",
     "output_type": "stream",
     "text": [
      "              State         Indicator     Term     President Cycle Duration  \\\n",
      "1           Alabama          Real GDP  Obama 1  Barack Obama      2009-2013   \n",
      "2            Alaska          Real GDP  Obama 1  Barack Obama      2009-2013   \n",
      "3           Arizona          Real GDP  Obama 1  Barack Obama      2009-2013   \n",
      "4          Arkansas          Real GDP  Obama 1  Barack Obama      2009-2013   \n",
      "5        California          Real GDP  Obama 1  Barack Obama      2009-2013   \n",
      "...             ...               ...      ...           ...            ...   \n",
      "1243       Virginia  Total Employment    Biden     Joe Biden      2021-2023   \n",
      "1244     Washington  Total Employment    Biden     Joe Biden      2021-2023   \n",
      "1245  West Virginia  Total Employment    Biden     Joe Biden      2021-2023   \n",
      "1246      Wisconsin  Total Employment    Biden     Joe Biden      2021-2023   \n",
      "1247        Wyoming  Total Employment    Biden     Joe Biden      2021-2023   \n",
      "\n",
      "      Overall Growth (%)  Average Growth (%)  \n",
      "1                   6.58                1.61  \n",
      "2                  -0.59               -0.08  \n",
      "3                   7.73                1.88  \n",
      "4                   9.11                2.21  \n",
      "5                  10.88                2.62  \n",
      "...                  ...                 ...  \n",
      "1243                6.08                3.00  \n",
      "1244                6.71                3.30  \n",
      "1245                4.53                2.24  \n",
      "1246                4.69                2.32  \n",
      "1247                5.52                2.73  \n",
      "\n",
      "[1224 rows x 7 columns]\n"
     ]
    }
   ],
   "source": [
    "import pandas as pd\n",
    "\n",
    "economic_data = pd.read_csv('/workspaces/Electoral-Economic-Analysis/electoral_analysis/processed_bea_economic_growth.csv')\n",
    "electoral_data = pd.read_csv('/workspaces/Electoral-Economic-Analysis/electoral_analysis/processed_2008-2020-president.csv')\n",
    "\n",
    "states = [\"Alabama\", \"Alaska\", \"Arizona\", \"Arkansas\", \"California\", \"Colorado\", \"Connecticut\", \"Delaware\", \"Florida\", \"Georgia\", \n",
    "          \"Hawaii\", \"Idaho\", \"Illinois\", \"Indiana\", \"Iowa\", \"Kansas\", \"Kentucky\", \"Louisiana\", \"Maine\", \"Maryland\", \"Massachusetts\", \n",
    "          \"Michigan\", \"Minnesota\", \"Mississippi\", \"Missouri\", \"Montana\", \"Nebraska\", \"Nevada\", \"New Hampshire\", \"New Jersey\", \n",
    "          \"New Mexico\", \"New York\", \"North Carolina\", \"North Dakota\", \"Ohio\", \"Oklahoma\", \"Oregon\", \"Pennsylvania\", \"Rhode Island\", \n",
    "          \"South Carolina\", \"South Dakota\", \"Tennessee\", \"Texas\", \"Utah\", \"Vermont\", \"Virginia\", \"Washington\", \"West Virginia\", \n",
    "          \"Wisconsin\", \"Wyoming\", \"District of Columbia\"]\n",
    "\n",
    "state_economic_data = economic_data[economic_data['State'].isin(states)]\n",
    "print(state_economic_data)"
   ]
  },
  {
   "cell_type": "code",
   "execution_count": 12,
   "metadata": {},
   "outputs": [
    {
     "name": "stdout",
     "output_type": "stream",
     "text": [
      "51\n",
      "51\n",
      "51\n",
      "51\n",
      "51\n",
      "51\n"
     ]
    }
   ],
   "source": [
    "# Filter data for Real GDP\n",
    "realGDP_data = state_economic_data[state_economic_data['Indicator'] == 'Real GDP']\n",
    "\n",
    "# Filter data for Real per capita personal income\n",
    "real_per_capita_personal_income_data = state_economic_data[state_economic_data['Indicator'] == 'Real Per Capita Personal Income']\n",
    "\n",
    "# Filter data for Real personal income\n",
    "real_personal_income_data = state_economic_data[state_economic_data['Indicator'] == 'Real Personal Income']\n",
    "\n",
    "# Filter data for Real per capita PCE\n",
    "real_per_capita_PCE_data = state_economic_data[state_economic_data['Indicator'] == 'Real Per Capita PCE']\n",
    "\n",
    "# Filter data for Real PCE\n",
    "real_PCE_data = state_economic_data[state_economic_data['Indicator'] == 'Real PCE']\n",
    "\n",
    "# Filter data for Total employment\n",
    "total_employment_data = state_economic_data[state_economic_data['Indicator'] == 'Total Employment']\n",
    "\n",
    "\n",
    "print(len(realGDP_data['State'].unique()))\n",
    "print(len(real_per_capita_personal_income_data['State'].unique()))\n",
    "print(len(real_personal_income_data['State'].unique()))\n",
    "print(len(real_per_capita_PCE_data['State'].unique()))\n",
    "print(len(real_PCE_data['State'].unique()))\n",
    "print(len(total_employment_data['State'].unique()))"
   ]
  }
 ],
 "metadata": {
  "kernelspec": {
   "display_name": "Python 3",
   "language": "python",
   "name": "python3"
  },
  "language_info": {
   "codemirror_mode": {
    "name": "ipython",
    "version": 3
   },
   "file_extension": ".py",
   "mimetype": "text/x-python",
   "name": "python",
   "nbconvert_exporter": "python",
   "pygments_lexer": "ipython3",
   "version": "3.12.1"
  }
 },
 "nbformat": 4,
 "nbformat_minor": 2
}

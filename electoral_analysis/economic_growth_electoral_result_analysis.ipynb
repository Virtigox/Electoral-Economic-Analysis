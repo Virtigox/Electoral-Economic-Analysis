{
 "cells": [
  {
   "cell_type": "code",
   "execution_count": 20,
   "metadata": {},
   "outputs": [
    {
     "name": "stdout",
     "output_type": "stream",
     "text": [
      "        State Indicator     Term     President Cycle Duration  \\\n",
      "1     Alabama  Real GDP  Obama 1  Barack Obama      2009-2013   \n",
      "2      Alaska  Real GDP  Obama 1  Barack Obama      2009-2013   \n",
      "3     Arizona  Real GDP  Obama 1  Barack Obama      2009-2013   \n",
      "4    Arkansas  Real GDP  Obama 1  Barack Obama      2009-2013   \n",
      "5  California  Real GDP  Obama 1  Barack Obama      2009-2013   \n",
      "\n",
      "   Overall Growth (%)  Average Growth (%)  Start Year  \n",
      "1                6.58                1.61        2008  \n",
      "2               -0.59               -0.08        2008  \n",
      "3                7.73                1.88        2008  \n",
      "4                9.11                2.21        2008  \n",
      "5               10.88                2.62        2008  \n",
      "              State         Indicator     Term     President Cycle Duration  \\\n",
      "1           Alabama          Real GDP  Obama 1  Barack Obama      2009-2013   \n",
      "2            Alaska          Real GDP  Obama 1  Barack Obama      2009-2013   \n",
      "3           Arizona          Real GDP  Obama 1  Barack Obama      2009-2013   \n",
      "4          Arkansas          Real GDP  Obama 1  Barack Obama      2009-2013   \n",
      "5        California          Real GDP  Obama 1  Barack Obama      2009-2013   \n",
      "...             ...               ...      ...           ...            ...   \n",
      "1243       Virginia  Total Employment    Biden     Joe Biden      2021-2023   \n",
      "1244     Washington  Total Employment    Biden     Joe Biden      2021-2023   \n",
      "1245  West Virginia  Total Employment    Biden     Joe Biden      2021-2023   \n",
      "1246      Wisconsin  Total Employment    Biden     Joe Biden      2021-2023   \n",
      "1247        Wyoming  Total Employment    Biden     Joe Biden      2021-2023   \n",
      "\n",
      "      Overall Growth (%)  Average Growth (%)  Start Year  \n",
      "1                   6.58                1.61        2008  \n",
      "2                  -0.59               -0.08        2008  \n",
      "3                   7.73                1.88        2008  \n",
      "4                   9.11                2.21        2008  \n",
      "5                  10.88                2.62        2008  \n",
      "...                  ...                 ...         ...  \n",
      "1243                6.08                3.00        2020  \n",
      "1244                6.71                3.30        2020  \n",
      "1245                4.53                2.24        2020  \n",
      "1246                4.69                2.32        2020  \n",
      "1247                5.52                2.73        2020  \n",
      "\n",
      "[1224 rows x 8 columns]\n"
     ]
    }
   ],
   "source": [
    "import pandas as pd\n",
    "\n",
    "economic_data = pd.read_csv('/workspaces/Electoral-Economic-Analysis/electoral_analysis/processed_bea_economic_growth.csv')\n",
    "electoral_data = pd.read_csv('/workspaces/Electoral-Economic-Analysis/electoral_analysis/processed_electoral_data.csv')\n",
    "\n",
    "states = [\"Alabama\", \"Alaska\", \"Arizona\", \"Arkansas\", \"California\", \"Colorado\", \"Connecticut\", \"Delaware\", \"Florida\", \"Georgia\", \n",
    "          \"Hawaii\", \"Idaho\", \"Illinois\", \"Indiana\", \"Iowa\", \"Kansas\", \"Kentucky\", \"Louisiana\", \"Maine\", \"Maryland\", \"Massachusetts\", \n",
    "          \"Michigan\", \"Minnesota\", \"Mississippi\", \"Missouri\", \"Montana\", \"Nebraska\", \"Nevada\", \"New Hampshire\", \"New Jersey\", \n",
    "          \"New Mexico\", \"New York\", \"North Carolina\", \"North Dakota\", \"Ohio\", \"Oklahoma\", \"Oregon\", \"Pennsylvania\", \"Rhode Island\", \n",
    "          \"South Carolina\", \"South Dakota\", \"Tennessee\", \"Texas\", \"Utah\", \"Vermont\", \"Virginia\", \"Washington\", \"West Virginia\", \n",
    "          \"Wisconsin\", \"Wyoming\", \"District of Columbia\"]\n",
    "\n",
    "economic_data = economic_data[economic_data['State'].isin(states)]\n",
    "\n",
    "\n",
    "print(economic_data.head())\n",
    "\n",
    "print(economic_data)"
   ]
  },
  {
   "cell_type": "code",
   "execution_count": 27,
   "metadata": {},
   "outputs": [
    {
     "name": "stdout",
     "output_type": "stream",
     "text": [
      "        state Indicator     Term     President cycle_duration  \\\n",
      "0     ALABAMA  Real GDP  Obama 1  Barack Obama      2009-2013   \n",
      "1      ALASKA  Real GDP  Obama 1  Barack Obama      2009-2013   \n",
      "2     ARIZONA  Real GDP  Obama 1  Barack Obama      2009-2013   \n",
      "3    ARKANSAS  Real GDP  Obama 1  Barack Obama      2009-2013   \n",
      "4  CALIFORNIA  Real GDP  Obama 1  Barack Obama      2009-2013   \n",
      "\n",
      "   Overall Growth (%)  Average Growth (%)  year        Office  \\\n",
      "0                6.58                1.61  2008  US PRESIDENT   \n",
      "1               -0.59               -0.08  2008  US PRESIDENT   \n",
      "2                7.73                1.88  2008  US PRESIDENT   \n",
      "3                9.11                2.21  2008  US PRESIDENT   \n",
      "4               10.88                2.62  2008  US PRESIDENT   \n",
      "\n",
      "  Winning Candidate Winning Party  Winning Percentage  Losing Candidate  \\\n",
      "0      MCCAIN, JOHN    REPUBLICAN               60.32  OBAMA, BARACK H.   \n",
      "1      MCCAIN, JOHN    REPUBLICAN               59.42  OBAMA, BARACK H.   \n",
      "2      MCCAIN, JOHN    REPUBLICAN               53.64  OBAMA, BARACK H.   \n",
      "3      MCCAIN, JOHN    REPUBLICAN               58.72  OBAMA, BARACK H.   \n",
      "4  OBAMA, BARACK H.      DEMOCRAT               61.01      MCCAIN, JOHN   \n",
      "\n",
      "  Losing Party  Losing Percentage  \n",
      "0     DEMOCRAT              38.74  \n",
      "1     DEMOCRAT              37.89  \n",
      "2     DEMOCRAT              45.12  \n",
      "3     DEMOCRAT              38.86  \n",
      "4   REPUBLICAN              36.95  \n"
     ]
    }
   ],
   "source": [
    "# Normalize the column names for merging\n",
    "economic_data.rename(columns={\"State\": \"state\", \"Cycle Duration\": \"cycle_duration\"}, inplace=True)\n",
    "electoral_data.rename(columns={\"State\": \"state\", \"Year\": \"year\"}, inplace=True)\n",
    "\n",
    "# Step 1: Extract the start year from the Cycle Duration\n",
    "economic_data['cycle_duration'] = economic_data['cycle_duration'].astype(str)\n",
    "economic_data['Start Year'] = economic_data['cycle_duration'].str.split('-').str[0].astype(int) - 1\n",
    "\n",
    "# Ensure 'state' columns are in the same format (e.g., uppercase)\n",
    "economic_data['state'] = economic_data['state'].str.upper()\n",
    "electoral_data['state'] = electoral_data['state'].str.upper()\n",
    "\n",
    "# Ensure 'year' columns are integers\n",
    "economic_data['Start Year'] = economic_data['Start Year'].astype(int)\n",
    "electoral_data['year'] = electoral_data['year'].astype(int)\n",
    "\n",
    "# Merging two relative dataframes\n",
    "merged_data = pd.merge(economic_data, electoral_data, left_on=['state', 'Start Year'], right_on=['state', 'year'], how='inner')\n",
    "\n",
    "# Drop unnecessary columns and clean up the data\n",
    "merged_data = merged_data.drop(columns=[\"Start Year\"])\n",
    "\n",
    "# Display the merged dataset\n",
    "print(merged_data.head())\n",
    "\n",
    "# Save the merged dataset to a CSV file\n",
    "merged_data.to_csv('/workspaces/Electoral-Economic-Analysis/electoral_analysis/merged_economic_electoral_data.csv', index=False)"
   ]
  },
  {
   "cell_type": "code",
   "execution_count": 21,
   "metadata": {},
   "outputs": [
    {
     "name": "stdout",
     "output_type": "stream",
     "text": [
      "Unique electoral results in 2008: 51\n",
      "Unique electoral results in 2012: 51\n",
      "Unique electoral results in 2016: 51\n",
      "Unique electoral results in 2020: 51\n"
     ]
    }
   ],
   "source": [
    "# Electoral data filtering\n",
    "\n",
    "election_2008_data = electoral_data[electoral_data['Year'] == 2008]\n",
    "election_2012_data = electoral_data[electoral_data['Year'] == 2012]\n",
    "election_2016_data = electoral_data[electoral_data['Year'] == 2016]\n",
    "election_2020_data = electoral_data[electoral_data['Year'] == 2020]\n",
    "\n",
    "# Print the number of unique electoral result in each filtered dataset\n",
    "print(\"Unique electoral results in 2008:\", election_2008_data['State'].nunique())\n",
    "print(\"Unique electoral results in 2012:\", election_2012_data['State'].nunique())\n",
    "print(\"Unique electoral results in 2016:\", election_2016_data['State'].nunique())\n",
    "print(\"Unique electoral results in 2020:\", election_2020_data['State'].nunique())"
   ]
  },
  {
   "cell_type": "code",
   "execution_count": 22,
   "metadata": {},
   "outputs": [
    {
     "name": "stdout",
     "output_type": "stream",
     "text": [
      "51\n",
      "51\n",
      "51\n",
      "51\n",
      "51\n",
      "51\n",
      "51\n",
      "        State Indicator     Term     President Cycle Duration  \\\n",
      "1     Alabama  Real GDP  Obama 1  Barack Obama      2009-2013   \n",
      "2      Alaska  Real GDP  Obama 1  Barack Obama      2009-2013   \n",
      "3     Arizona  Real GDP  Obama 1  Barack Obama      2009-2013   \n",
      "4    Arkansas  Real GDP  Obama 1  Barack Obama      2009-2013   \n",
      "5  California  Real GDP  Obama 1  Barack Obama      2009-2013   \n",
      "\n",
      "   Overall Growth (%)  Average Growth (%)  Start Year  \n",
      "1                6.58                1.61        2008  \n",
      "2               -0.59               -0.08        2008  \n",
      "3                7.73                1.88        2008  \n",
      "4                9.11                2.21        2008  \n",
      "5               10.88                2.62        2008  \n"
     ]
    }
   ],
   "source": [
    "# Filter data for Real GDP\n",
    "realGDP_data = economic_data[economic_data['Indicator'] == 'Real GDP']\n",
    "\n",
    "# Filter data for Real per capita personal income\n",
    "real_per_capita_personal_income_data = economic_data[economic_data['Indicator'] == 'Real Per Capita Personal Income']\n",
    "\n",
    "# Filter data for Real personal income\n",
    "real_personal_income_data = economic_data[economic_data['Indicator'] == 'Real Personal Income']\n",
    "\n",
    "# Filter data for Real per capita PCE\n",
    "real_per_capita_PCE_data = economic_data[economic_data['Indicator'] == 'Real Per Capita PCE']\n",
    "\n",
    "# Filter data for Real PCE\n",
    "real_PCE_data = economic_data[economic_data['Indicator'] == 'Real PCE']\n",
    "\n",
    "# Filter data for Total employment\n",
    "total_employment_data = economic_data[economic_data['Indicator'] == 'Total Employment']\n",
    "\n",
    "# Print the number of unique states in each filtered dataset\n",
    "print(len(realGDP_data['State'].unique()))\n",
    "print(len(real_per_capita_personal_income_data['State'].unique()))\n",
    "print(len(real_personal_income_data['State'].unique()))\n",
    "print(len(real_per_capita_PCE_data['State'].unique()))\n",
    "print(len(real_PCE_data['State'].unique()))\n",
    "print(len(total_employment_data['State'].unique()))\n",
    "\n",
    "# Print the number of unique states in the electoral data\n",
    "print(len(electoral_data['State'].unique()))\n",
    "\n",
    "\n",
    "print(realGDP_data.head())\n"
   ]
  },
  {
   "cell_type": "code",
   "execution_count": null,
   "metadata": {},
   "outputs": [],
   "source": []
  }
 ],
 "metadata": {
  "kernelspec": {
   "display_name": "Python 3",
   "language": "python",
   "name": "python3"
  },
  "language_info": {
   "codemirror_mode": {
    "name": "ipython",
    "version": 3
   },
   "file_extension": ".py",
   "mimetype": "text/x-python",
   "name": "python",
   "nbconvert_exporter": "python",
   "pygments_lexer": "ipython3",
   "version": "3.12.1"
  }
 },
 "nbformat": 4,
 "nbformat_minor": 2
}
